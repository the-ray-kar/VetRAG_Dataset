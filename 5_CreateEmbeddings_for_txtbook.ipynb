{
 "cells": [
  {
   "cell_type": "code",
   "execution_count": 34,
   "id": "d61c5a30",
   "metadata": {},
   "outputs": [],
   "source": [
    "import numpy as np\n",
    "import pandas as pd\n",
    "import json"
   ]
  },
  {
   "cell_type": "code",
   "execution_count": 35,
   "id": "4d4d05f5",
   "metadata": {},
   "outputs": [
    {
     "name": "stdout",
     "output_type": "stream",
     "text": [
      "Reading file: everything_about_dogs_administering_medicine.txt\n",
      "Reading file: everything_about_dogs_breeding.txt\n",
      "Reading file: everything_about_dogs_diseases.txt\n",
      "Reading file: everything_about_dogs_distemper.txt\n",
      "Reading file: everything_about_dogs_dog_papers.txt\n",
      "Reading file: everything_about_dogs_drugs.txt\n",
      "Reading file: everything_about_dogs_feeding.txt\n",
      "Reading file: everything_about_dogs_hydrophobia.txt\n",
      "Reading file: everything_about_dogs_medicle_terms.txt\n",
      "Reading file: everything_about_dogs_start_note.txt\n"
     ]
    }
   ],
   "source": [
    "#Read all the book_data text files from ChaptersCleaned folder\n",
    "import os\n",
    "book_data_text_files = {}\n",
    "for root, dirs, files in os.walk('ChaptersCleaned'):\n",
    "    for file in files:\n",
    "        if file.endswith('.txt'):\n",
    "            with open(os.path.join(root, file), 'r', encoding='utf-8') as f:\n",
    "                print(\"Reading file:\", file)\n",
    "                book_data_text_files[file] = f.read()"
   ]
  },
  {
   "cell_type": "code",
   "execution_count": 36,
   "id": "a294b55a",
   "metadata": {},
   "outputs": [],
   "source": [
    "#load sentence transformer model called book_data_embedding_model\n",
    "from sentence_transformers import SentenceTransformer\n",
    "book_data_embedding_model = SentenceTransformer('diseases_embedding_model')"
   ]
  },
  {
   "cell_type": "code",
   "execution_count": 37,
   "id": "6688110c",
   "metadata": {},
   "outputs": [
    {
     "data": {
      "text/plain": [
       "1422"
      ]
     },
     "execution_count": 37,
     "metadata": {},
     "output_type": "execute_result"
    }
   ],
   "source": [
    "len(book_data_text_files['everything_about_dogs_dog_papers.txt'])"
   ]
  },
  {
   "cell_type": "code",
   "execution_count": 38,
   "id": "b9c142ec",
   "metadata": {},
   "outputs": [
    {
     "name": "stdout",
     "output_type": "stream",
     "text": [
      "Processing disease: everything_about_dogs_administering_medicine.txt\n",
      "Processing disease: everything_about_dogs_administering_medicine.txt completed with 12 chunks.\n",
      "Processing disease: everything_about_dogs_breeding.txt\n",
      "Processing disease: everything_about_dogs_breeding.txt completed with 47 chunks.\n",
      "Processing disease: everything_about_dogs_diseases.txt\n",
      "Processing disease: everything_about_dogs_diseases.txt completed with 519 chunks.\n",
      "Processing disease: everything_about_dogs_distemper.txt\n",
      "Processing disease: everything_about_dogs_distemper.txt completed with 87 chunks.\n",
      "Processing disease: everything_about_dogs_dog_papers.txt\n",
      "Processing disease: everything_about_dogs_dog_papers.txt completed with 1 chunks.\n",
      "Processing disease: everything_about_dogs_drugs.txt\n",
      "Processing disease: everything_about_dogs_drugs.txt completed with 14 chunks.\n",
      "Processing disease: everything_about_dogs_feeding.txt\n",
      "Processing disease: everything_about_dogs_feeding.txt completed with 25 chunks.\n",
      "Processing disease: everything_about_dogs_hydrophobia.txt\n",
      "Processing disease: everything_about_dogs_hydrophobia.txt completed with 109 chunks.\n",
      "Processing disease: everything_about_dogs_medicle_terms.txt\n",
      "Processing disease: everything_about_dogs_medicle_terms.txt completed with 5 chunks.\n",
      "Processing disease: everything_about_dogs_start_note.txt\n",
      "Processing disease: everything_about_dogs_start_note.txt completed with 12 chunks.\n"
     ]
    }
   ],
   "source": [
    "#Split each text each of chunk size of 2000 charachters with overlap of 1000 characters\n",
    "def split_text(text, chunk_size=2000, overlap=1000):\n",
    "    chunks = []\n",
    "    start = 0\n",
    "    while start < len(text):\n",
    "        end = start + chunk_size\n",
    "        chunk = text[start:end]\n",
    "        if len(chunk) < chunk_size:\n",
    "            #Append the last chunk even if it's smaller than chunk_size\n",
    "            if chunk:\n",
    "                chunks.append(chunk)\n",
    "            break\n",
    "        chunks.append(chunk)\n",
    "        start += chunk_size - overlap\n",
    "    return chunks\n",
    "\n",
    "book_data_text_master = []\n",
    "for disease, text in book_data_text_files.items():\n",
    "    print(\"Processing disease:\", disease)\n",
    "    chunks = split_text(text)\n",
    "    disease_dict = {}\n",
    "    disease_dict['disease'] = disease\n",
    "    disease_dict['text_chunks'] = chunks\n",
    "    book_data_text_master.append(disease_dict)\n",
    "    print(\"Processing disease:\", disease, \"completed with\", len(chunks), \"chunks.\")"
   ]
  },
  {
   "cell_type": "code",
   "execution_count": 39,
   "id": "aed603a7",
   "metadata": {},
   "outputs": [
    {
     "name": "stdout",
     "output_type": "stream",
     "text": [
      "Creating embeddings for disease: everything_about_dogs_administering_medicine.txt\n",
      "Creating embeddings for disease: everything_about_dogs_breeding.txt\n",
      "Creating embeddings for disease: everything_about_dogs_diseases.txt\n",
      "Creating embeddings for disease: everything_about_dogs_distemper.txt\n",
      "Creating embeddings for disease: everything_about_dogs_dog_papers.txt\n",
      "Creating embeddings for disease: everything_about_dogs_drugs.txt\n",
      "Creating embeddings for disease: everything_about_dogs_feeding.txt\n",
      "Creating embeddings for disease: everything_about_dogs_hydrophobia.txt\n",
      "Creating embeddings for disease: everything_about_dogs_medicle_terms.txt\n",
      "Creating embeddings for disease: everything_about_dogs_start_note.txt\n"
     ]
    }
   ],
   "source": [
    "#Now iterate through each disease, iterate through each text chunk, convert the disease name along with all values to string and make embeddings\n",
    "for disease in book_data_text_master:\n",
    "    disease_name = disease['disease']\n",
    "    text_chunks = disease['text_chunks']\n",
    "    print(\"Creating embeddings for disease:\", disease_name)\n",
    "    embeddings = []\n",
    "    for i, chunk in enumerate(text_chunks):\n",
    "\n",
    "        # Generate the embedding\n",
    "        embedding = book_data_embedding_model.encode(chunk)\n",
    "        #Convert the embedding to a numpy array\n",
    "        embedding = np.array(embedding)\n",
    "        # Store the embedding in the dictionary\n",
    "        embeddings.append(embedding.tolist())\n",
    "\n",
    "    # Store the embeddings in the disease dictionary\n",
    "    disease['embeddings'] = embeddings\n",
    "    "
   ]
  },
  {
   "cell_type": "code",
   "execution_count": 40,
   "id": "89fcf730",
   "metadata": {},
   "outputs": [],
   "source": [
    "#Now convert the book_data_text_master to a DataFrame\n",
    "book_data_df = pd.DataFrame(book_data_text_master)\n",
    "#Save as parquet\n",
    "book_data_df.to_parquet('everything_about_dogs_with_embeddings.parquet')"
   ]
  },
  {
   "cell_type": "code",
   "execution_count": 41,
   "id": "1af927ca",
   "metadata": {},
   "outputs": [],
   "source": [
    "#Also save the book_data_df as a JSON file\n",
    "book_data_df.to_json('everything_about_dogs_with_embeddings.json', orient='records', lines=True)"
   ]
  },
  {
   "cell_type": "code",
   "execution_count": 6,
   "id": "f84bc493",
   "metadata": {},
   "outputs": [],
   "source": [
    "#Load the parquet file\n",
    "import pandas as pd\n",
    "book_data_df = pd.read_parquet('Final Data/everything_about_dogs_with_embeddings.parquet')"
   ]
  },
  {
   "cell_type": "code",
   "execution_count": null,
   "id": "2d707c11",
   "metadata": {},
   "outputs": [],
   "source": [
    "#Drop the embedding column and save the DataFrame in parquet format\n",
    "book_data_df.drop(columns=['embeddings'], inplace=True)\n",
    "book_data_df.to_parquet('Final Data/everything_about_dogs_without_embeddings.parquet')"
   ]
  },
  {
   "cell_type": "code",
   "execution_count": 13,
   "id": "47c11269",
   "metadata": {},
   "outputs": [],
   "source": [
    "#Store in json format. With entries comma seperated with root key as data\n",
    "book_data_df.to_json('Final Data/everything_about_dogs_without_embeddings.json', orient='records')"
   ]
  },
  {
   "cell_type": "code",
   "execution_count": 10,
   "id": "75e87b57",
   "metadata": {},
   "outputs": [
    {
     "data": {
      "text/html": [
       "<div>\n",
       "<style scoped>\n",
       "    .dataframe tbody tr th:only-of-type {\n",
       "        vertical-align: middle;\n",
       "    }\n",
       "\n",
       "    .dataframe tbody tr th {\n",
       "        vertical-align: top;\n",
       "    }\n",
       "\n",
       "    .dataframe thead th {\n",
       "        text-align: right;\n",
       "    }\n",
       "</style>\n",
       "<table border=\"1\" class=\"dataframe\">\n",
       "  <thead>\n",
       "    <tr style=\"text-align: right;\">\n",
       "      <th></th>\n",
       "      <th>disease</th>\n",
       "      <th>text_chunks</th>\n",
       "    </tr>\n",
       "  </thead>\n",
       "  <tbody>\n",
       "    <tr>\n",
       "      <th>0</th>\n",
       "      <td>everything_about_dogs_administering_medicine.txt</td>\n",
       "      <td>[\\n\\nAdministering  Medicine. — It  is  foolis...</td>\n",
       "    </tr>\n",
       "    <tr>\n",
       "      <th>1</th>\n",
       "      <td>everything_about_dogs_breeding.txt</td>\n",
       "      <td>[\\n\\nBREEDING  AND  RAISING  OF  PUPPIES \\n\\n\\...</td>\n",
       "    </tr>\n",
       "    <tr>\n",
       "      <th>2</th>\n",
       "      <td>everything_about_dogs_diseases.txt</td>\n",
       "      <td>[\\nAsthma. — This  is  a  common  disease  and...</td>\n",
       "    </tr>\n",
       "    <tr>\n",
       "      <th>3</th>\n",
       "      <td>everything_about_dogs_distemper.txt</td>\n",
       "      <td>[\\n\\nDistemper. — This  disease  trouble  bree...</td>\n",
       "    </tr>\n",
       "    <tr>\n",
       "      <th>4</th>\n",
       "      <td>everything_about_dogs_dog_papers.txt</td>\n",
       "      <td>[DOG  PAPERS  YOU  NEED \\n\\n\\nThere  are  seve...</td>\n",
       "    </tr>\n",
       "  </tbody>\n",
       "</table>\n",
       "</div>"
      ],
      "text/plain": [
       "                                            disease  \\\n",
       "0  everything_about_dogs_administering_medicine.txt   \n",
       "1                everything_about_dogs_breeding.txt   \n",
       "2                everything_about_dogs_diseases.txt   \n",
       "3               everything_about_dogs_distemper.txt   \n",
       "4              everything_about_dogs_dog_papers.txt   \n",
       "\n",
       "                                         text_chunks  \n",
       "0  [\\n\\nAdministering  Medicine. — It  is  foolis...  \n",
       "1  [\\n\\nBREEDING  AND  RAISING  OF  PUPPIES \\n\\n\\...  \n",
       "2  [\\nAsthma. — This  is  a  common  disease  and...  \n",
       "3  [\\n\\nDistemper. — This  disease  trouble  bree...  \n",
       "4  [DOG  PAPERS  YOU  NEED \\n\\n\\nThere  are  seve...  "
      ]
     },
     "execution_count": 10,
     "metadata": {},
     "output_type": "execute_result"
    }
   ],
   "source": [
    "book_data_df.head()"
   ]
  },
  {
   "cell_type": "code",
   "execution_count": null,
   "id": "fba8a753",
   "metadata": {},
   "outputs": [],
   "source": []
  }
 ],
 "metadata": {
  "kernelspec": {
   "display_name": ".venv",
   "language": "python",
   "name": "python3"
  },
  "language_info": {
   "codemirror_mode": {
    "name": "ipython",
    "version": 3
   },
   "file_extension": ".py",
   "mimetype": "text/x-python",
   "name": "python",
   "nbconvert_exporter": "python",
   "pygments_lexer": "ipython3",
   "version": "3.10.0"
  }
 },
 "nbformat": 4,
 "nbformat_minor": 5
}
